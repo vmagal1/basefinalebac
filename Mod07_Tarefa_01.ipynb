{
  "cells": [
    {
      "cell_type": "markdown",
      "metadata": {
        "id": "view-in-github",
        "colab_type": "text"
      },
      "source": [
        "<a href=\"https://colab.research.google.com/github/vmagal1/basefinalebac/blob/main/Mod07_Tarefa_01.ipynb\" target=\"_parent\"><img src=\"https://colab.research.google.com/assets/colab-badge.svg\" alt=\"Open In Colab\"/></a>"
      ]
    },
    {
      "cell_type": "markdown",
      "metadata": {
        "id": "d8yCrvnM_2sd"
      },
      "source": [
        "# Módulo 07, Tarefa 01\n",
        "\n",
        "Vamos começar a mexer na nossa base de projeto? Já fizemos um exercício de montar a variável resposta, já pudemos perceber que essa atividade pode não ser trivial. Vamos agora trabalhar a base para que fique propícia ao *scikitlearn* para trabalharmos.\n",
        "\n",
        "Lembrando, a base se chama demo01.csv, e originalmente está publicada [aqui](https://www.kaggle.com/rikdifos/credit-card-approval-prediction)."
      ]
    },
    {
      "cell_type": "markdown",
      "metadata": {
        "id": "hcMBVVE8_2sg"
      },
      "source": [
        "#### 1) Carregue a base e avalie:\n",
        "\n",
        "- As variáveis\n",
        "- Tipos de dados de cada variável\n",
        "- Quantidade de missings\n",
        "- Distribuição da variável resposta (mau)"
      ]
    },
    {
      "cell_type": "code",
      "execution_count": 3,
      "metadata": {
        "id": "jfUxW_PX_2sh",
        "colab": {
          "base_uri": "https://localhost:8080/"
        },
        "outputId": "a61b8c3b-6397-4c32-9d6c-b4b189a41bad"
      },
      "outputs": [
        {
          "output_type": "stream",
          "name": "stdout",
          "text": [
            "<class 'pandas.core.frame.DataFrame'>\n",
            "RangeIndex: 16650 entries, 0 to 16649\n",
            "Data columns (total 16 columns):\n",
            " #   Column                 Non-Null Count  Dtype  \n",
            "---  ------                 --------------  -----  \n",
            " 0   sexo                   16650 non-null  object \n",
            " 1   posse_de_veiculo       16650 non-null  object \n",
            " 2   posse_de_imovel        16650 non-null  object \n",
            " 3   qtd_filhos             16650 non-null  int64  \n",
            " 4   tipo_renda             16650 non-null  object \n",
            " 5   educacao               16650 non-null  object \n",
            " 6   estado_civil           16650 non-null  object \n",
            " 7   tipo_residencia        16650 non-null  object \n",
            " 8   idade                  16650 non-null  float64\n",
            " 9   tempo_emprego          16650 non-null  float64\n",
            " 10  possui_celular         16650 non-null  int64  \n",
            " 11  possui_fone_comercial  16650 non-null  int64  \n",
            " 12  possui_fone            16650 non-null  int64  \n",
            " 13  possui_email           16650 non-null  int64  \n",
            " 14  qt_pessoas_residencia  16650 non-null  float64\n",
            " 15  mau                    16650 non-null  bool   \n",
            "dtypes: bool(1), float64(3), int64(5), object(7)\n",
            "memory usage: 1.9+ MB\n"
          ]
        }
      ],
      "source": [
        "import pandas as pd\n",
        "import numpy as np\n",
        "import seaborn as sns\n",
        "import matplotlib.pyplot as plt\n",
        "\n",
        "#Avaliando as variaveis\n",
        "df = pd.read_csv('demo01.csv')\n",
        "df.info()\n",
        "\n"
      ]
    },
    {
      "cell_type": "code",
      "source": [
        "#contagem de numeros missing\n",
        "\n",
        "\n",
        "df.drop_duplicates(inplace=True)\n",
        "df.info()"
      ],
      "metadata": {
        "colab": {
          "base_uri": "https://localhost:8080/"
        },
        "id": "96RzkRuAcg9n",
        "outputId": "d5a1be0e-f46c-41f7-ea51-e52bbc014ba7"
      },
      "execution_count": 6,
      "outputs": [
        {
          "output_type": "stream",
          "name": "stdout",
          "text": [
            "<class 'pandas.core.frame.DataFrame'>\n",
            "Index: 6770 entries, 0 to 16649\n",
            "Data columns (total 16 columns):\n",
            " #   Column                 Non-Null Count  Dtype  \n",
            "---  ------                 --------------  -----  \n",
            " 0   sexo                   6770 non-null   object \n",
            " 1   posse_de_veiculo       6770 non-null   object \n",
            " 2   posse_de_imovel        6770 non-null   object \n",
            " 3   qtd_filhos             6770 non-null   int64  \n",
            " 4   tipo_renda             6770 non-null   object \n",
            " 5   educacao               6770 non-null   object \n",
            " 6   estado_civil           6770 non-null   object \n",
            " 7   tipo_residencia        6770 non-null   object \n",
            " 8   idade                  6770 non-null   float64\n",
            " 9   tempo_emprego          6770 non-null   float64\n",
            " 10  possui_celular         6770 non-null   int64  \n",
            " 11  possui_fone_comercial  6770 non-null   int64  \n",
            " 12  possui_fone            6770 non-null   int64  \n",
            " 13  possui_email           6770 non-null   int64  \n",
            " 14  qt_pessoas_residencia  6770 non-null   float64\n",
            " 15  mau                    6770 non-null   bool   \n",
            "dtypes: bool(1), float64(3), int64(5), object(7)\n",
            "memory usage: 852.9+ KB\n"
          ]
        }
      ]
    },
    {
      "cell_type": "code",
      "source": [
        "#distribuicao da variavel resposta (mau)\n",
        "\n",
        "df['mau'].value_counts()"
      ],
      "metadata": {
        "colab": {
          "base_uri": "https://localhost:8080/"
        },
        "id": "0YQiFk6PdBC6",
        "outputId": "7843c5d2-0289-41a1-ff6b-71f1c98d48aa"
      },
      "execution_count": 5,
      "outputs": [
        {
          "output_type": "execute_result",
          "data": {
            "text/plain": [
              "mau\n",
              "False    6472\n",
              "True      298\n",
              "Name: count, dtype: int64"
            ]
          },
          "metadata": {},
          "execution_count": 5
        }
      ]
    },
    {
      "cell_type": "markdown",
      "metadata": {
        "id": "_v0f02mE_2si"
      },
      "source": [
        "#### 2) Vamos montar um metadados\n",
        "\n",
        "1. Crie um dataframe com os nomes de cada variável e o tipo de dados de cada variável.\n",
        "2. Adicione uma coluna nesse *dataframe* chamada \"qtd_categorias\" e coloque nela o número de categorias correspondente de cada variável.\n",
        "    Dica:\n",
        "        1. inicie uma lista vazia\n",
        "        2. faça um for ao longo dos nomes das variáveis,\n",
        "        3. conte o número de categorias dessa variável\n",
        "        4. acumule essa informação de 3. na lista que você criou em 1.\n",
        "        5. No final, essa lista pode ser atribuída à nossa variável."
      ]
    },
    {
      "cell_type": "code",
      "execution_count": 35,
      "metadata": {
        "id": "gNF5BRdA_2si",
        "colab": {
          "base_uri": "https://localhost:8080/"
        },
        "outputId": "aa52d180-9df5-4650-e4d1-d50b98e507b7"
      },
      "outputs": [
        {
          "output_type": "stream",
          "name": "stdout",
          "text": [
            "<class 'pandas.core.frame.DataFrame'>\n",
            "RangeIndex: 4 entries, 0 to 3\n",
            "Data columns (total 16 columns):\n",
            " #   Column                 Non-Null Count  Dtype  \n",
            "---  ------                 --------------  -----  \n",
            " 0   sexo                   4 non-null      object \n",
            " 1   posse_de_veiculo       4 non-null      object \n",
            " 2   posse_de_imovel        4 non-null      object \n",
            " 3   qtd_filhos             4 non-null      int64  \n",
            " 4   tipo_renda             4 non-null      object \n",
            " 5   educacao               4 non-null      object \n",
            " 6   estado_civil           4 non-null      object \n",
            " 7   tipo_residencia        4 non-null      object \n",
            " 8   idade                  4 non-null      float64\n",
            " 9   tempo_emprego          4 non-null      float64\n",
            " 10  possui_celular         4 non-null      int64  \n",
            " 11  possui_fone_comercial  4 non-null      int64  \n",
            " 12  possui_fone            4 non-null      int64  \n",
            " 13  possui_email           4 non-null      int64  \n",
            " 14  qt_pessoas_residencia  4 non-null      float64\n",
            " 15  mau                    4 non-null      bool   \n",
            "dtypes: bool(1), float64(3), int64(5), object(7)\n",
            "memory usage: 612.0+ bytes\n"
          ]
        }
      ],
      "source": [
        "\n",
        "\n",
        "df_list = pd.DataFrame(df)\n",
        "\n",
        "\n",
        "lista_contagens = []\n",
        "\n",
        "\n",
        "for coluna in df.columns:\n",
        "\n",
        "    if df[coluna].dtype == 'object':\n",
        "        num_categorias = df[coluna].nunique()\n",
        "    else:\n",
        "        num_categorias = None\n",
        "    lista_contagens.append((coluna, num_categorias))\n",
        "\n",
        "\n",
        "contagens_categorias = lista_contagens\n",
        "\n",
        "\n",
        "df.info()\n",
        "\n"
      ]
    },
    {
      "cell_type": "markdown",
      "metadata": {
        "id": "h0XKJFhY_2si"
      },
      "source": [
        "#### 3) Crie variáveis dummy para as variáveis necessárias (i.e. aquelas que são qualitativas e não estão armazenadas como {0, 1} ou {True, False}. Crie um *dataframe* apenas com as variáveis apropriadas para entrada no scikitlearn - elimine as variáveis tipo *str*, mantendo apenas suas versões *dummy*."
      ]
    },
    {
      "cell_type": "code",
      "execution_count": 51,
      "metadata": {
        "id": "ePbdZDOi_2sj",
        "colab": {
          "base_uri": "https://localhost:8080/"
        },
        "outputId": "f201c40c-ca38-4d07-a0b0-2323d7ef0f97"
      },
      "outputs": [
        {
          "output_type": "stream",
          "name": "stdout",
          "text": [
            "   qtd_filhos  idade  tempo_emprego  possui_celular  possui_fone_comercial  \\\n",
            "0           2   30.0            5.0               1                      0   \n",
            "1           0   45.0           20.0               1                      1   \n",
            "2           1   25.0            2.0               1                      0   \n",
            "3           3   50.0           25.0               1                      1   \n",
            "\n",
            "   possui_fone  possui_email  qt_pessoas_residencia    mau  sexo_M  \\\n",
            "0            1             1                    4.0   True    True   \n",
            "1            1             1                    2.0  False   False   \n",
            "2            0             1                    3.0  False   False   \n",
            "3            1             1                    2.0   True    True   \n",
            "\n",
            "   posse_de_veiculo_Y  posse_de_imovel_Y  tipo_renda_Empresário  \\\n",
            "0                True               True                  False   \n",
            "1               False              False                   True   \n",
            "2                True              False                   True   \n",
            "3               False               True                  False   \n",
            "\n",
            "   educacao_Médio  educacao_Superior  estado_civil_Divorciado  \\\n",
            "0           False               True                    False   \n",
            "1            True              False                    False   \n",
            "2           False               True                    False   \n",
            "3           False              False                     True   \n",
            "\n",
            "   estado_civil_Solteiro  tipo_residencia_Casa  \n",
            "0                   True                  True  \n",
            "1                  False                 False  \n",
            "2                   True                  True  \n",
            "3                  False                 False  \n",
            "qtd_filhos                   int64\n",
            "idade                      float64\n",
            "tempo_emprego              float64\n",
            "possui_celular               int64\n",
            "possui_fone_comercial        int64\n",
            "possui_fone                  int64\n",
            "possui_email                 int64\n",
            "qt_pessoas_residencia      float64\n",
            "mau                           bool\n",
            "sexo_M                        bool\n",
            "posse_de_veiculo_Y            bool\n",
            "posse_de_imovel_Y             bool\n",
            "tipo_renda_Empresário         bool\n",
            "educacao_Médio                bool\n",
            "educacao_Superior             bool\n",
            "estado_civil_Divorciado       bool\n",
            "estado_civil_Solteiro         bool\n",
            "tipo_residencia_Casa          bool\n",
            "dtype: object\n",
            "<class 'pandas.core.frame.DataFrame'>\n",
            "RangeIndex: 4 entries, 0 to 3\n",
            "Data columns (total 18 columns):\n",
            " #   Column                   Non-Null Count  Dtype  \n",
            "---  ------                   --------------  -----  \n",
            " 0   qtd_filhos               4 non-null      int64  \n",
            " 1   idade                    4 non-null      float64\n",
            " 2   tempo_emprego            4 non-null      float64\n",
            " 3   possui_celular           4 non-null      int64  \n",
            " 4   possui_fone_comercial    4 non-null      int64  \n",
            " 5   possui_fone              4 non-null      int64  \n",
            " 6   possui_email             4 non-null      int64  \n",
            " 7   qt_pessoas_residencia    4 non-null      float64\n",
            " 8   mau                      4 non-null      bool   \n",
            " 9   sexo_M                   4 non-null      bool   \n",
            " 10  posse_de_veiculo_Y       4 non-null      bool   \n",
            " 11  posse_de_imovel_Y        4 non-null      bool   \n",
            " 12  tipo_renda_Empresário    4 non-null      bool   \n",
            " 13  educacao_Médio           4 non-null      bool   \n",
            " 14  educacao_Superior        4 non-null      bool   \n",
            " 15  estado_civil_Divorciado  4 non-null      bool   \n",
            " 16  estado_civil_Solteiro    4 non-null      bool   \n",
            " 17  tipo_residencia_Casa     4 non-null      bool   \n",
            "dtypes: bool(10), float64(3), int64(5)\n",
            "memory usage: 424.0 bytes\n"
          ]
        }
      ],
      "source": [
        "colunas_categoricas = df.select_dtypes(include=['object']).columns\n",
        "\n",
        "df_dummy = pd.get_dummies(df, columns=colunas_categoricas, drop_first=True)\n",
        "\n",
        "print(df_dummy)\n",
        "print(df_dummy.dtypes)\n",
        "df_dummy.info()"
      ]
    },
    {
      "cell_type": "markdown",
      "source": [],
      "metadata": {
        "id": "fKlI01DI7oGl"
      }
    },
    {
      "cell_type": "markdown",
      "metadata": {
        "id": "uhaqFcPE_2sj"
      },
      "source": [
        "#### 4) Qual variável é mais poderosa?\n",
        "\n",
        "Considere as variáveis ```possui_email``` e ```posse_de_veiculo```. Faça uma tabela cruzada entre elas e responda qual delas te parece mais poderosa para prever a probabilidade de ```mau = 1```?"
      ]
    },
    {
      "cell_type": "code",
      "execution_count": 60,
      "metadata": {
        "id": "3wUAHc_-_2sj",
        "colab": {
          "base_uri": "https://localhost:8080/"
        },
        "outputId": "aaf3c463-d17e-4bd7-e2fb-b48812135bbd"
      },
      "outputs": [
        {
          "output_type": "stream",
          "name": "stdout",
          "text": [
            "mau           False  True \n",
            "possui_email              \n",
            "1               0.5    0.5\n",
            "mau               False  True \n",
            "posse_de_veiculo              \n",
            "N                   0.5    0.5\n",
            "Y                   0.5    0.5\n"
          ]
        }
      ],
      "source": [
        "tabela1= pd.crosstab(df['possui_email'], df_dummy['mau'], normalize = 'index')\n",
        "tabela2 = pd.crosstab(df['posse_de_veiculo'], df_dummy['mau'], normalize = 'index')\n",
        "\n",
        "\n",
        "print(tabela1)\n",
        "\n",
        "print(tabela2)\n",
        "\n",
        "# Podemos analisar, atraves da tabela cruzada que as duas variaveis sao equivalentemente poderosas para prever a probabilidade de mau = 1"
      ]
    },
    {
      "cell_type": "markdown",
      "metadata": {
        "id": "G2Issl2e_2sj"
      },
      "source": [
        "#### 5) Salve a base, pois ela será utilizada no final deste módulo."
      ]
    },
    {
      "cell_type": "code",
      "execution_count": 61,
      "metadata": {
        "id": "KSEj8OL9_2sk"
      },
      "outputs": [],
      "source": [
        "df_dummy.to_csv('base_final.csv', index=False)"
      ]
    }
  ],
  "metadata": {
    "kernelspec": {
      "display_name": "Python 3",
      "language": "python",
      "name": "python3"
    },
    "language_info": {
      "codemirror_mode": {
        "name": "ipython",
        "version": 3
      },
      "file_extension": ".py",
      "mimetype": "text/x-python",
      "name": "python",
      "nbconvert_exporter": "python",
      "pygments_lexer": "ipython3",
      "version": "3.8.5"
    },
    "colab": {
      "provenance": [],
      "history_visible": true,
      "include_colab_link": true
    }
  },
  "nbformat": 4,
  "nbformat_minor": 0
}